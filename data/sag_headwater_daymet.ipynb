{
 "cells": [
  {
   "cell_type": "markdown",
   "metadata": {},
   "source": [
    "# Met data for Sat Headwater"
   ]
  },
  {
   "cell_type": "code",
   "execution_count": 1,
   "metadata": {},
   "outputs": [],
   "source": [
    "%matplotlib inline"
   ]
  },
  {
   "cell_type": "code",
   "execution_count": 2,
   "metadata": {},
   "outputs": [],
   "source": [
    "import os\n",
    "import workflow.conf\n",
    "\n",
    "workflow.conf.set_data_directory(os.path.join(os.getcwd(), '..', 'data', 'raw'))"
   ]
  },
  {
   "cell_type": "code",
   "execution_count": 3,
   "metadata": {},
   "outputs": [],
   "source": [
    "import os,sys\n",
    "import numpy as np\n",
    "from matplotlib import pyplot as plt\n",
    "import shapely\n",
    "import logging\n",
    "\n",
    "import workflow\n",
    "import workflow.source_list\n",
    "import workflow.ui\n",
    "import workflow.colors\n",
    "import workflow.condition\n",
    "import workflow.bin_utils\n",
    "import workflow.plot\n",
    "\n",
    "import datetime\n",
    "\n",
    "workflow.ui.setup_logging(1,None)"
   ]
  },
  {
   "cell_type": "code",
   "execution_count": 4,
   "metadata": {},
   "outputs": [
    {
     "name": "stderr",
     "output_type": "stream",
     "text": [
      "2020-08-17 12:19:41,099 - root - INFO: Using sources:\n",
      "2020-08-17 12:19:41,101 - root - INFO: --------------\n",
      "2020-08-17 12:19:41,101 - root - INFO: HUC: National Watershed Boundary Dataset (WBD)\n",
      "2020-08-17 12:19:41,102 - root - INFO: hydrography: National Hydrography Dataset (NHD)\n",
      "2020-08-17 12:19:41,102 - root - INFO: DEM: National Elevation Dataset (NED)\n",
      "2020-08-17 12:19:41,104 - root - INFO: soil type: National Resources Conservation Service Soil Survey (NRCS Soils)\n",
      "2020-08-17 12:19:41,105 - root - INFO: land cover: National Land Cover Database (NLCD) Layer: NLCD_2016_Land_Cover_L48\n",
      "2020-08-17 12:19:41,105 - root - INFO: soil thickness: None\n",
      "2020-08-17 12:19:41,106 - root - INFO: meteorology: DayMet 1km\n",
      "2020-08-17 12:19:41,107 - root - INFO: \n",
      "2020-08-17 12:19:41,108 - root - INFO: Meshing HUC: 190604020404\n",
      "2020-08-17 12:19:41,109 - root - INFO: ==============================\n",
      "2020-08-17 12:19:41,110 - root - INFO: \n",
      "2020-08-17 12:19:41,111 - root - INFO: Preprocessing HUC\n",
      "2020-08-17 12:19:41,112 - root - INFO: ------------------------------\n",
      "2020-08-17 12:19:41,112 - root - INFO: Loading level 12 HUCs in 190604020404.\n",
      "2020-08-17 12:19:41,114 - root - INFO: Using HUC file \"/Users/uec/research/arctic/problems/sag_river/interface-sag_river/data/../data/raw/hydrography/WBD_19_GDB/WBD_19.gdb\"\n",
      "2020-08-17 12:19:43,346 - root - INFO:   found 1 HUCs.\n",
      "2020-08-17 12:19:43,347 - root - INFO:   -- 190604020404\n"
     ]
    }
   ],
   "source": [
    "# set up a dictionary of source objects\n",
    "sources = workflow.source_list.get_default_sources()\n",
    "workflow.source_list.log_sources(sources)\n",
    "\n",
    "# specify the input shapefile and a hint as to what HUC it is in.\n",
    "huc = '190604020404'\n",
    "logging.info(\"\")\n",
    "logging.info(\"Meshing HUC: {}\".format(huc))\n",
    "logging.info(\"=\"*30)\n",
    "\n",
    "# get the shape and crs of the shape\n",
    "crs, hucs = workflow.get_split_form_hucs(sources['HUC'], huc, 12, crs=workflow.crs.default_alaska_crs())"
   ]
  },
  {
   "cell_type": "code",
   "execution_count": 5,
   "metadata": {},
   "outputs": [
    {
     "data": {
      "text/plain": [
       "<matplotlib.patches.PathPatch at 0x7fad31194f40>"
      ]
     },
     "execution_count": 5,
     "metadata": {},
     "output_type": "execute_result"
    },
    {
     "data": {
      "image/png": "[encoded data removed]",
      "text/plain": [
       "<Figure size 432x288 with 1 Axes>"
      ]
     },
     "metadata": {
      "needs_background": "light"
     },
     "output_type": "display_data"
    }
   ],
   "source": [
    "# plot the shape, does it look right?\n",
    "fig, ax = workflow.plot.get_ax(crs)\n",
    "workflow.plot.shply([hucs.exterior(),], crs, ax=ax)\n"
   ]
  },
  {
   "cell_type": "code",
   "execution_count": 6,
   "metadata": {},
   "outputs": [
    {
     "name": "stdout",
     "output_type": "stream",
     "text": [
      "centroid at: (long-lat) (array('d', [-149.07534301532525]), array('d', [68.25260782077336]))\n"
     ]
    }
   ],
   "source": [
    "# find the centroid in lat-long\n",
    "huc_centroid = hucs.exterior().centroid\n",
    "huc_centroid_ll = workflow.warp.xy(huc_centroid.xy[0], huc_centroid.xy[1], crs, workflow.crs.latlon_crs())\n",
    "print('centroid at: (long-lat)', huc_centroid_ll)"
   ]
  },
  {
   "cell_type": "code",
   "execution_count": 7,
   "metadata": {},
   "outputs": [
    {
     "name": "stderr",
     "output_type": "stream",
     "text": [
      "2020-08-17 12:19:43,675 - root - INFO: Querying: https://daymet.ornl.gov/single-pixel/api/data?lat=68.2526&lon=-149.0753&vars=dayl,prcp,srad,swe,tmax,tmin,vp&start=1980-01-01&end=2018-12-31\n",
      "2020-08-17 12:19:52,572 - root - INFO:   returned code: 200\n",
      "2020-08-17 12:19:52,573 - root - INFO:   writing to disk: ./daymet_raw_68p2526_-149p0753.dat\n"
     ]
    }
   ],
   "source": [
    "import daymet_to_ats\n",
    "start, end = daymet_to_ats.validate_start_end(None,None)\n",
    "dm = daymet_to_ats.download_daymet('.', huc_centroid_ll[1][0], huc_centroid_ll[0][0], start, end)"
   ]
  },
  {
   "cell_type": "code",
   "execution_count": 8,
   "metadata": {},
   "outputs": [
    {
     "name": "stderr",
     "output_type": "stream",
     "text": [
      "2020-08-17 12:19:52,657 - root - INFO: Converting to ATS\n",
      "2020-08-17 12:19:52,660 - root - INFO: Writing ATS file: daymet_raw_68p2526_-149p0753.h5\n"
     ]
    }
   ],
   "source": [
    "ats = daymet_to_ats.daymet_to_ats(dm)\n",
    "attrs = daymet_to_ats.daymet_attrs(huc_centroid_ll[1][0], huc_centroid_ll[0][0], start, end)\n",
    "filename_out = daymet_to_ats.daymet_filename(huc_centroid_ll[1][0], huc_centroid_ll[0][0])\n",
    "daymet_to_ats.write_ats(ats, attrs, filename_out)\n"
   ]
  },
  {
   "cell_type": "code",
   "execution_count": null,
   "metadata": {},
   "outputs": [],
   "source": [
    "# old filename prefix\n",
    "old_prefix = filename_out[:-3] # remove .h5\n",
    "new_prefix = 'daymet_sag-headwater'\n",
    "os.rename(old_prefix+'.dat', new_prefix+'.dat')\n",
    "os.rename(old_prefix+'.h5', new_prefix+'.h5')\n"
   ]
  },
  {
   "cell_type": "code",
   "execution_count": null,
   "metadata": {},
   "outputs": [],
   "source": []
  }
 ],
 "metadata": {
  "kernelspec": {
   "display_name": "Python 3",
   "language": "python",
   "name": "python3"
  },
  "language_info": {
   "codemirror_mode": {
    "name": "ipython",
    "version": 3
   },
   "file_extension": ".py",
   "mimetype": "text/x-python",
   "name": "python",
   "nbconvert_exporter": "python",
   "pygments_lexer": "ipython3",
   "version": "3.8.5"
  }
 },
 "nbformat": 4,
 "nbformat_minor": 4
}
