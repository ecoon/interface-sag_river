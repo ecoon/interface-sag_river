{
 "cells": [
  {
   "cell_type": "markdown",
   "metadata": {},
   "source": [
    "\n",
    "This script generates hillslope mesh with a varying organic layer thickness at the top."
   ]
  },
  {
   "cell_type": "code",
   "execution_count": 1,
   "metadata": {},
   "outputs": [],
   "source": [
    "%matplotlib inline"
   ]
  },
  {
   "cell_type": "code",
   "execution_count": 2,
   "metadata": {},
   "outputs": [],
   "source": [
    "# global parameters\n",
    "dx = 10\n",
    "outlet_elevation = 0\n",
    "\n",
    "# run-specific parameters\n",
    "\n",
    "# -- hillslope geometry\n",
    "hillslope_length = 800\n",
    "hillslope_slope = 0.1\n",
    "toeslope_length = 200\n",
    "toeslope_slope = 0.01\n",
    "\n",
    "hillslope_acrotelm = 0.1\n",
    "hillslope_catotelm = 0.12\n",
    "toeslope_acrotelm = 0.12\n",
    "toeslope_catotelm = 0.2"
   ]
  },
  {
   "cell_type": "code",
   "execution_count": 3,
   "metadata": {},
   "outputs": [
    {
     "name": "stderr",
     "output_type": "stream",
     "text": [
      "/Users/uec/code/watershed-workflow/repos/master/workflow/mesh.py:410: SyntaxWarning: \"is\" with a literal. Did you mean \"==\"?\n",
      "  assert(len(c) is 3) # check all triangles\n",
      "/Users/uec/code/watershed-workflow/repos/master/workflow/mesh.py:479: SyntaxWarning: \"is\" with a literal. Did you mean \"==\"?\n",
      "  if i is 0:\n"
     ]
    }
   ],
   "source": [
    "import numpy as np\n",
    "from matplotlib import pyplot as plt\n",
    "import logging\n",
    "\n",
    "import workflow.mesh\n",
    "import workflow.ui\n",
    "\n",
    "workflow.ui.setup_logging(1,None)\n",
    "\n"
   ]
  },
  {
   "cell_type": "code",
   "execution_count": 4,
   "metadata": {},
   "outputs": [],
   "source": [
    "# global derived parameters\n",
    "n_hillslope = int(round(hillslope_length / dx))\n",
    "n_toeslope = int(round(toeslope_length/dx))\n",
    "n_total = n_hillslope + n_toeslope\n",
    "\n",
    "hillslope_length = n_hillslope * dx\n",
    "toeslope_length = n_toeslope * dx\n",
    "total_length = hillslope_length + toeslope_length\n",
    "\n"
   ]
  },
  {
   "cell_type": "code",
   "execution_count": 5,
   "metadata": {},
   "outputs": [
    {
     "name": "stdout",
     "output_type": "stream",
     "text": [
      "# of cells: 100\n"
     ]
    },
    {
     "data": {
      "image/png": "[encoded data removed]",
      "text/plain": [
       "<Figure size 432x288 with 1 Axes>"
      ]
     },
     "metadata": {
      "needs_background": "light"
     },
     "output_type": "display_data"
    }
   ],
   "source": [
    "xs = np.linspace(0,total_length,n_total+1)\n",
    "\n",
    "def z_of_x(x):\n",
    "    z = outlet_elevation\n",
    "    z += min(x, toeslope_length) * toeslope_slope\n",
    "    z += max(0, min(x - toeslope_length, hillslope_length))\n",
    "    return z\n",
    "        \n",
    "zs = np.array([z_of_x(x) for x in xs])\n",
    "\n",
    "plt.plot(xs,zs); plt.xlabel('x distance (m)'); plt.ylabel('z elevation (m)')\n",
    "m2 = workflow.mesh.Mesh2D.from_Transect(xs,zs)\n",
    "print('# of cells:', m2.num_cells())"
   ]
  },
  {
   "cell_type": "code",
   "execution_count": 6,
   "metadata": {},
   "outputs": [
    {
     "data": {
      "image/png": "[encoded data removed]",
      "text/plain": [
       "<Figure size 432x288 with 1 Axes>"
      ]
     },
     "metadata": {
      "needs_background": "light"
     },
     "output_type": "display_data"
    }
   ],
   "source": [
    "# Changing organic layer thickness \n",
    "acrotelm_thickness = np.where(xs < toeslope_length, toeslope_acrotelm, hillslope_acrotelm)\n",
    "catotelm_thickness = np.where(xs < toeslope_length, toeslope_catotelm, hillslope_catotelm)\n",
    "\n",
    "plt.plot(xs, zs, 'g')\n",
    "plt.plot(xs, zs - acrotelm_thickness, 'b')\n",
    "plt.plot(xs, zs - acrotelm_thickness - catotelm_thickness, 'orange')\n",
    "plt.plot(xs, zs - 45, 'k')\n",
    "plt.show()"
   ]
  },
  {
   "cell_type": "code",
   "execution_count": 18,
   "metadata": {},
   "outputs": [
    {
     "name": "stderr",
     "output_type": "stream",
     "text": [
      "2020-08-17 14:43:44,073 - root - INFO: Converged?: ratio = 1.2943928503623967, layer z (target = 7) = 3.9465319900955365e-11\n",
      "2020-08-17 14:43:44,075 - root - INFO: Got telescoping factor: 1.2943928503623967\n",
      "2020-08-17 14:43:44,077 - root - INFO: Cell summary:\n",
      "2020-08-17 14:43:44,078 - root - INFO: ------------------------------------------------------------\n",
      "2020-08-17 14:43:44,079 - root - INFO: l_id\t| c_id\t|mat_id\t| dz\t\t| z_top\n",
      "2020-08-17 14:43:44,080 - root - INFO: ------------------------------------------------------------\n",
      "2020-08-17 14:43:44,080 - root - INFO:  00 \t| 00 \t|  103 \t|   0.020000 \t|   0.000000\n",
      "2020-08-17 14:43:44,081 - root - INFO:  01 \t| 01 \t|  103 \t|   0.020000 \t|   0.020000\n",
      "2020-08-17 14:43:44,082 - root - INFO:  02 \t| 02 \t|  103 \t|   0.020000 \t|   0.040000\n",
      "2020-08-17 14:43:44,083 - root - INFO:  03 \t| 03 \t|  103 \t|   0.020000 \t|   0.060000\n",
      "2020-08-17 14:43:44,083 - root - INFO:  04 \t| 04 \t|  103 \t|   0.020000 \t|   0.080000\n",
      "2020-08-17 14:43:44,084 - root - INFO:  05 \t| 05 \t|  103 \t|   0.020000 \t|   0.100000\n",
      "2020-08-17 14:43:44,084 - root - INFO:  06 \t| 06 \t|  102 \t|   0.020000 \t|   0.120000\n",
      "2020-08-17 14:43:44,085 - root - INFO:  07 \t| 07 \t|  102 \t|   0.020000 \t|   0.140000\n",
      "2020-08-17 14:43:44,086 - root - INFO:  08 \t| 08 \t|  102 \t|   0.020000 \t|   0.160000\n",
      "2020-08-17 14:43:44,087 - root - INFO:  09 \t| 09 \t|  102 \t|   0.020000 \t|   0.180000\n",
      "2020-08-17 14:43:44,087 - root - INFO:  10 \t| 10 \t|  102 \t|   0.020000 \t|   0.200000\n",
      "2020-08-17 14:43:44,088 - root - INFO:  11 \t| 11 \t|  102 \t|   0.020000 \t|   0.220000\n",
      "2020-08-17 14:43:44,088 - root - INFO:  12 \t| 12 \t|  102 \t|   0.020000 \t|   0.240000\n",
      "2020-08-17 14:43:44,089 - root - INFO:  13 \t| 13 \t|  102 \t|   0.020000 \t|   0.260000\n",
      "2020-08-17 14:43:44,090 - root - INFO:  14 \t| 14 \t|  102 \t|   0.020000 \t|   0.280000\n",
      "2020-08-17 14:43:44,091 - root - INFO:  15 \t| 15 \t|  102 \t|   0.020000 \t|   0.300000\n",
      "2020-08-17 14:43:44,091 - root - INFO:  16 \t| 16 \t|  101 \t|   0.020000 \t|   0.320000\n",
      "2020-08-17 14:43:44,091 - root - INFO:  17 \t| 17 \t|  101 \t|   0.020000 \t|   0.340000\n",
      "2020-08-17 14:43:44,092 - root - INFO:  18 \t| 18 \t|  101 \t|   0.020000 \t|   0.360000\n",
      "2020-08-17 14:43:44,092 - root - INFO:  19 \t| 19 \t|  101 \t|   0.020000 \t|   0.380000\n",
      "2020-08-17 14:43:44,093 - root - INFO:  20 \t| 20 \t|  101 \t|   0.020000 \t|   0.400000\n",
      "2020-08-17 14:43:44,094 - root - INFO:  21 \t| 21 \t|  101 \t|   0.020000 \t|   0.420000\n",
      "2020-08-17 14:43:44,094 - root - INFO:  22 \t| 22 \t|  101 \t|   0.020000 \t|   0.440000\n",
      "2020-08-17 14:43:44,094 - root - INFO:  23 \t| 23 \t|  101 \t|   0.020000 \t|   0.460000\n",
      "2020-08-17 14:43:44,095 - root - INFO:  24 \t| 24 \t|  101 \t|   0.020000 \t|   0.480000\n",
      "2020-08-17 14:43:44,095 - root - INFO:  25 \t| 25 \t|  101 \t|   0.020000 \t|   0.500000\n",
      "2020-08-17 14:43:44,096 - root - INFO:  26 \t| 26 \t|  101 \t|   0.020000 \t|   0.520000\n",
      "2020-08-17 14:43:44,096 - root - INFO:  27 \t| 27 \t|  101 \t|   0.020000 \t|   0.540000\n",
      "2020-08-17 14:43:44,097 - root - INFO:  28 \t| 28 \t|  101 \t|   0.020000 \t|   0.560000\n",
      "2020-08-17 14:43:44,097 - root - INFO:  29 \t| 29 \t|  101 \t|   0.020000 \t|   0.580000\n",
      "2020-08-17 14:43:44,097 - root - INFO:  30 \t| 30 \t|  101 \t|   0.020000 \t|   0.600000\n",
      "2020-08-17 14:43:44,098 - root - INFO:  31 \t| 31 \t|  101 \t|   0.020000 \t|   0.620000\n",
      "2020-08-17 14:43:44,099 - root - INFO:  32 \t| 32 \t|  101 \t|   0.020000 \t|   0.640000\n",
      "2020-08-17 14:43:44,099 - root - INFO:  33 \t| 33 \t|  101 \t|   0.020000 \t|   0.660000\n",
      "2020-08-17 14:43:44,100 - root - INFO:  34 \t| 34 \t|  101 \t|   0.020000 \t|   0.680000\n",
      "2020-08-17 14:43:44,100 - root - INFO:  35 \t| 35 \t|  101 \t|   0.020000 \t|   0.700000\n",
      "2020-08-17 14:43:44,100 - root - INFO:  36 \t| 36 \t|  101 \t|   0.020000 \t|   0.720000\n",
      "2020-08-17 14:43:44,101 - root - INFO:  37 \t| 37 \t|  101 \t|   0.020000 \t|   0.740000\n",
      "2020-08-17 14:43:44,101 - root - INFO:  38 \t| 38 \t|  101 \t|   0.020000 \t|   0.760000\n",
      "2020-08-17 14:43:44,102 - root - INFO:  39 \t| 39 \t|  101 \t|   0.020000 \t|   0.780000\n",
      "2020-08-17 14:43:44,103 - root - INFO:  40 \t| 40 \t|  101 \t|   0.020000 \t|   0.800000\n",
      "2020-08-17 14:43:44,103 - root - INFO:  41 \t| 41 \t|  101 \t|   0.020000 \t|   0.820000\n",
      "2020-08-17 14:43:44,103 - root - INFO:  42 \t| 42 \t|  101 \t|   0.020000 \t|   0.840000\n",
      "2020-08-17 14:43:44,104 - root - INFO:  43 \t| 43 \t|  101 \t|   0.020000 \t|   0.860000\n",
      "2020-08-17 14:43:44,104 - root - INFO:  44 \t| 44 \t|  101 \t|   0.020000 \t|   0.880000\n",
      "2020-08-17 14:43:44,105 - root - INFO:  45 \t| 45 \t|  101 \t|   0.020000 \t|   0.900000\n",
      "2020-08-17 14:43:44,105 - root - INFO:  46 \t| 46 \t|  101 \t|   0.020000 \t|   0.920000\n",
      "2020-08-17 14:43:44,105 - root - INFO:  47 \t| 47 \t|  101 \t|   0.020000 \t|   0.940000\n",
      "2020-08-17 14:43:44,106 - root - INFO:  48 \t| 48 \t|  101 \t|   0.020000 \t|   0.960000\n",
      "2020-08-17 14:43:44,106 - root - INFO:  49 \t| 49 \t|  101 \t|   0.020000 \t|   0.980000\n",
      "2020-08-17 14:43:44,107 - root - INFO:  50 \t| 50 \t|  101 \t|   0.020000 \t|   1.000000\n",
      "2020-08-17 14:43:44,107 - root - INFO:  51 \t| 51 \t|  101 \t|   0.025888 \t|   1.020000\n",
      "2020-08-17 14:43:44,108 - root - INFO:  52 \t| 52 \t|  101 \t|   0.033509 \t|   1.045888\n",
      "2020-08-17 14:43:44,108 - root - INFO:  53 \t| 53 \t|  101 \t|   0.043374 \t|   1.079397\n",
      "2020-08-17 14:43:44,109 - root - INFO:  54 \t| 54 \t|  101 \t|   0.056143 \t|   1.122771\n",
      "2020-08-17 14:43:44,109 - root - INFO:  55 \t| 55 \t|  101 \t|   0.072671 \t|   1.178914\n",
      "2020-08-17 14:43:44,110 - root - INFO:  56 \t| 56 \t|  101 \t|   0.094065 \t|   1.251585\n",
      "2020-08-17 14:43:44,110 - root - INFO:  57 \t| 57 \t|  101 \t|   0.121757 \t|   1.345649\n",
      "2020-08-17 14:43:44,110 - root - INFO:  58 \t| 58 \t|  101 \t|   0.157601 \t|   1.467406\n",
      "2020-08-17 14:43:44,111 - root - INFO:  59 \t| 59 \t|  101 \t|   0.203998 \t|   1.625007\n",
      "2020-08-17 14:43:44,111 - root - INFO:  60 \t| 60 \t|  101 \t|   0.264053 \t|   1.829004\n",
      "2020-08-17 14:43:44,112 - root - INFO:  61 \t| 61 \t|  101 \t|   0.341788 \t|   2.093057\n",
      "2020-08-17 14:43:44,112 - root - INFO:  62 \t| 62 \t|  101 \t|   0.442408 \t|   2.434846\n",
      "2020-08-17 14:43:44,113 - root - INFO:  63 \t| 63 \t|  101 \t|   0.572650 \t|   2.877254\n",
      "2020-08-17 14:43:44,113 - root - INFO:  64 \t| 64 \t|  101 \t|   0.741234 \t|   3.449904\n",
      "2020-08-17 14:43:44,114 - root - INFO:  65 \t| 65 \t|  101 \t|   0.959448 \t|   4.191138\n",
      "2020-08-17 14:43:44,115 - root - INFO:  66 \t| 66 \t|  101 \t|   1.241903 \t|   5.150587\n",
      "2020-08-17 14:43:44,116 - root - INFO:  67 \t| 67 \t|  101 \t|   1.607510 \t|   6.392490\n",
      "2020-08-17 14:43:44,116 - root - INFO:  68 \t| 68 \t|  101 \t|   2.000000 \t|   8.000000\n",
      "2020-08-17 14:43:44,116 - root - INFO:  68 \t| 69 \t|  101 \t|   2.000000 \t|  10.000000\n",
      "2020-08-17 14:43:44,117 - root - INFO:  68 \t| 70 \t|  101 \t|   2.000000 \t|  12.000000\n",
      "2020-08-17 14:43:44,118 - root - INFO:  68 \t| 71 \t|  101 \t|   2.000000 \t|  14.000000\n",
      "2020-08-17 14:43:44,119 - root - INFO:  68 \t| 72 \t|  101 \t|   2.000000 \t|  16.000000\n",
      "2020-08-17 14:43:44,120 - root - INFO:  68 \t| 73 \t|  101 \t|   2.000000 \t|  18.000000\n",
      "2020-08-17 14:43:44,120 - root - INFO:  68 \t| 74 \t|  101 \t|   2.000000 \t|  20.000000\n",
      "2020-08-17 14:43:44,121 - root - INFO:  68 \t| 75 \t|  101 \t|   2.000000 \t|  22.000000\n",
      "2020-08-17 14:43:44,122 - root - INFO:  68 \t| 76 \t|  101 \t|   2.000000 \t|  24.000000\n",
      "2020-08-17 14:43:44,122 - root - INFO:  68 \t| 77 \t|  101 \t|   2.000000 \t|  26.000000\n",
      "2020-08-17 14:43:44,122 - root - INFO:  68 \t| 78 \t|  101 \t|   2.000000 \t|  28.000000\n",
      "2020-08-17 14:43:44,123 - root - INFO:  68 \t| 79 \t|  101 \t|   2.000000 \t|  30.000000\n",
      "2020-08-17 14:43:44,123 - root - INFO:  68 \t| 80 \t|  101 \t|   2.000000 \t|  32.000000\n",
      "2020-08-17 14:43:44,124 - root - INFO:  68 \t| 81 \t|  101 \t|   2.000000 \t|  34.000000\n",
      "2020-08-17 14:43:44,124 - root - INFO:  68 \t| 82 \t|  101 \t|   2.000000 \t|  36.000000\n",
      "2020-08-17 14:43:44,124 - root - INFO:  68 \t| 83 \t|  101 \t|   2.000000 \t|  38.000000\n",
      "2020-08-17 14:43:44,125 - root - INFO:  68 \t| 84 \t|  101 \t|   2.000000 \t|  40.000000\n",
      "2020-08-17 14:43:44,126 - root - INFO:  68 \t| 85 \t|  101 \t|   2.000000 \t|  42.000000\n"
     ]
    },
    {
     "name": "stdout",
     "output_type": "stream",
     "text": [
      "[(101,), (101,), (101,), (101,), (101,), (101,), (101,), (101,), (101,), (101,), (101,), (101,), (101,), (101,), (101,), (101,), (101,), (101,), (101,), (101,), (101,), (101,), (101,), (101,), (101,), (101,), (101,), (101,), (101,), (101,), (101,), (101,), (101,), (101,), (101,), (101,), (101,), (101,), (101,), (101,), (101,), (101,), (101,), (101,), (101,), (101,), (101,), (101,), (101,), (101,), (101,), (101,), (101,), (101,), (101,), (101,), (101,), (101,), (101,), (101,), (101,), (101,), (101,), (101,), (101,), (101,), (101,), (101,), (101,)]\n"
     ]
    }
   ],
   "source": [
    "# preparing layer extrusion data for meshing_ats\n",
    "#\n",
    "# Meshes are extruded in the vertical by \"layer\", where a layer may \n",
    "# consist of multiple cells in the z direction.  These layers are \n",
    "# logical unit to make construction easier, and may or may not \n",
    "# correspond to material type (organic/mineral soil).\n",
    "# \n",
    "# The extrusion process is then given four lists, each of length\n",
    "# num_layers.\n",
    "#\n",
    "layer_types = []  # a list of strings that tell the extruding \n",
    "                  # code how to do the layers.  See meshing_ats \n",
    "                  # documentation for more, but here we will use\n",
    "                  # only \"constant\", which means that dz within\n",
    "                  # the layer is constant.\n",
    "\n",
    "layer_data = []   # this data depends upon the layer type, but\n",
    "                  # for constant is the thickness of the layer\n",
    "\n",
    "layer_ncells = [] # number of cells (in the vertical) in the layer.\n",
    "                  # The dz of each cell is the layer thickness / number of cells.\n",
    "\n",
    "layer_mat_ids = []# The material ID.  This may be either a constant int (for\n",
    "                  # unform layering) or an array of size [ncells_vertical x ncells_horizontal] in the layer \n",
    "                  # where each entry corresponds to the material ID of that cell.\n",
    "\n",
    "layer_depth = []  # used later to get the mat ids right, just for bookkeeping\n",
    "   \n",
    "    \n",
    "z = 0.0\n",
    "dz = 0.02\n",
    "\n",
    "\n",
    "assert((acrotelm_thickness + catotelm_thickness).max() < 1)\n",
    "# here we will only use 1 cell per layer, so layer thickness = dz.\n",
    "# top meter at 2cm cells\n",
    "# \n",
    "# must do them as independent layers to get the layering of acrotelm/catotelm/mineral correct\n",
    "\n",
    "for i in range(50):\n",
    "    layer_types.append(\"constant\")\n",
    "    layer_data.append(dz)\n",
    "    layer_ncells.append(1)\n",
    "    z += dz\n",
    "    layer_depth.append(z)\n",
    "    layer_mat_ids.append(np.where(z - 0.01 > acrotelm_thickness + catotelm_thickness, 101,\n",
    "                                  np.where(z - 0.01 > acrotelm_thickness, 102, 103)))\n",
    "\n",
    "# now go from 1m down to 10m telescoping\n",
    "ncells = 18\n",
    "tele = workflow.mesh.telescope_factor(ncells, dz, 7)\n",
    "logging.info(\"Got telescoping factor: {}\".format(tele))\n",
    "for i in range(ncells):\n",
    "    layer_types.append('constant')\n",
    "    layer_data.append(dz)\n",
    "    layer_ncells.append(1)\n",
    "    layer_mat_ids.append(101 * np.ones((m2.num_cells()+1,),dtype='i'))\n",
    "    z += dz\n",
    "    dz *= tele\n",
    "    \n",
    "# now go from 10m to 46m in 2m cells\n",
    "layer_types.append('constant')\n",
    "layer_data.append(36)\n",
    "layer_ncells.append(18)\n",
    "layer_mat_ids.append(101 * np.ones((m2.num_cells()+1,),'i'))\n",
    "\n",
    "print([lm.shape for lm in layer_mat_ids])\n",
    "\n",
    "# print out the result\n",
    "workflow.mesh.Mesh3D.summarize_extrusion(layer_types, layer_data, layer_ncells, layer_mat_ids)"
   ]
  },
  {
   "cell_type": "code",
   "execution_count": 19,
   "metadata": {},
   "outputs": [
    {
     "name": "stdout",
     "output_type": "stream",
     "text": [
      "\n",
      "You are using exodus.py v 1.19.2 (seacas-py3), a python wrapper of some of the exodus library.\n",
      "\n",
      "Copyright (c) 2013, 2014, 2015, 2016, 2017, 2018, 2019 National Technology &\n",
      "Engineering Solutions of Sandia, LLC (NTESS).  Under the terms of\n",
      "Contract DE-NA0003525 with NTESS, the U.S. Government retains certain\n",
      "rights in this software.\n",
      "\n",
      "Opening exodus file: sample_hillslope.exo\n",
      "Closing exodus file: sample_hillslope.exo\n"
     ]
    }
   ],
   "source": [
    "# make the mesh, save it as an exodus file\n",
    "m3 = workflow.mesh.Mesh3D.extruded_Mesh2D(m2, layer_types,layer_data, layer_ncells, np.array(layer_mat_ids))\n",
    "m3.write_exodus(\"sample_hillslope.exo\")"
   ]
  },
  {
   "cell_type": "code",
   "execution_count": 22,
   "metadata": {},
   "outputs": [],
   "source": [
    "# Make a column that is the same as the hillslope for use in spinup.\n",
    "# 1 km long hillslope, 10% slope\n",
    "xc = np.array([0,1])\n",
    "zc = np.array([0,0])\n",
    "m2c = workflow.mesh.Mesh2D.from_Transect(xc,zc)"
   ]
  },
  {
   "cell_type": "code",
   "execution_count": 23,
   "metadata": {},
   "outputs": [],
   "source": [
    "column_mat_ids = [lmi[0] for lmi in layer_mat_ids]"
   ]
  },
  {
   "cell_type": "code",
   "execution_count": 25,
   "metadata": {},
   "outputs": [
    {
     "name": "stdout",
     "output_type": "stream",
     "text": [
      "Opening exodus file: sample_column.exo\n",
      "Closing exodus file: sample_column.exo\n"
     ]
    }
   ],
   "source": [
    "m3c = workflow.mesh.Mesh3D.extruded_Mesh2D(m2c, layer_types,layer_data, layer_ncells, column_mat_ids)\n",
    "m3c.write_exodus(\"sample_column.exo\")"
   ]
  },
  {
   "cell_type": "code",
   "execution_count": null,
   "metadata": {},
   "outputs": [],
   "source": []
  }
 ],
 "metadata": {
  "anaconda-cloud": {},
  "kernelspec": {
   "display_name": "Python 3",
   "language": "python",
   "name": "python3"
  },
  "language_info": {
   "codemirror_mode": {
    "name": "ipython",
    "version": 3
   },
   "file_extension": ".py",
   "mimetype": "text/x-python",
   "name": "python",
   "nbconvert_exporter": "python",
   "pygments_lexer": "ipython3",
   "version": "3.8.5"
  }
 },
 "nbformat": 4,
 "nbformat_minor": 1
}
