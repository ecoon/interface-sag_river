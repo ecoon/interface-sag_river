{
 "cells": [
  {
   "cell_type": "markdown",
   "metadata": {},
   "source": [
    "\n",
    "This script generates hillslope mesh with a varying organic layer thickness at the top."
   ]
  },
  {
   "cell_type": "code",
   "execution_count": 16,
   "metadata": {},
   "outputs": [],
   "source": [
    "%matplotlib inline"
   ]
  },
  {
   "cell_type": "code",
   "execution_count": 9,
   "metadata": {},
   "outputs": [],
   "source": [
    "# global parameters\n",
    "dx = 10\n",
    "outlet_elevation = 0\n",
    "\n",
    "# run-specific parameters\n",
    "hillslope_length = 1000\n",
    "hillslope_slope = 0.1\n",
    "toeslope_length = 200\n",
    "toeslope_slope = 0.01\n",
    "\n",
    "hillslope_acrotelm = 0.1\n",
    "hillslope_catotelm = 0.1\n",
    "toeslope_acrotelm = 0.3\n",
    "toeslope_catotelm = 0.1"
   ]
  },
  {
   "cell_type": "code",
   "execution_count": 10,
   "metadata": {},
   "outputs": [],
   "source": [
    "import sys,os\n",
    "sys.path.append(os.path.join(os.environ['ATS_SRC_DIR'],'tools','meshing_ats'))\n",
    "import meshing_ats\n",
    "\n",
    "import numpy as np\n",
    "from matplotlib import pyplot as plt\n",
    "%matplotlib inline"
   ]
  },
  {
   "cell_type": "code",
   "execution_count": 11,
   "metadata": {},
   "outputs": [],
   "source": [
    "# global derived parameters\n",
    "n_hillslope = int(round(hillslope_length / dx))\n",
    "n_toeslope = int(round(toeslope_length/dx))\n",
    "n_total = n_hillslope + n_toeslope\n",
    "\n",
    "hillslope_length = n_hillslope * dx\n",
    "toeslope_length = n_toeslope * dx\n",
    "total_length = hillslope_length + toeslope_length\n",
    "\n"
   ]
  },
  {
   "cell_type": "code",
   "execution_count": 12,
   "metadata": {},
   "outputs": [
    {
     "name": "stdout",
     "output_type": "stream",
     "text": [
      "# of cells: 120\n"
     ]
    },
    {
     "data": {
      "image/png": "[encoded data removed]",
      "text/plain": [
       "<Figure size 432x288 with 1 Axes>"
      ]
     },
     "metadata": {
      "needs_background": "light"
     },
     "output_type": "display_data"
    }
   ],
   "source": [
    "\n",
    "xs = np.linspace(0,total_length,n_total+1)\n",
    "\n",
    "def z_of_x(x):\n",
    "    z = outlet_elevation\n",
    "    z += min(x, toeslope_length) * toeslope_slope\n",
    "    z += max(0, min(x - toeslope_length, hillslope_length))\n",
    "    return z\n",
    "        \n",
    "zs = np.array([z_of_x(x) for x in xs])\n",
    "\n",
    "plt.plot(xs,zs); plt.xlabel('x distance (m)'); plt.ylabel('z elevation (m)')\n",
    "m2 = meshing_ats.Mesh2D.from_Transect(xs,zs)\n",
    "print('# of cells:', m2.num_cells())"
   ]
  },
  {
   "cell_type": "code",
   "execution_count": 13,
   "metadata": {},
   "outputs": [
    {
     "data": {
      "image/png": "[encoded data removed]",
      "text/plain": [
       "<Figure size 432x288 with 1 Axes>"
      ]
     },
     "metadata": {
      "needs_background": "light"
     },
     "output_type": "display_data"
    }
   ],
   "source": [
    "# Changing organic layer thickness \n",
    "acrotelm_thickness = np.where(xs < toeslope_length, toeslope_acrotelm, hillslope_acrotelm)\n",
    "catotelm_thickness = np.where(xs < toeslope_length, toeslope_catotelm, hillslope_catotelm)\n",
    "\n",
    "plt.plot(xs, zs, 'g')\n",
    "plt.plot(xs, zs - acrotelm_thickness, 'b')\n",
    "plt.plot(xs, zs - acrotelm_thickness - catotelm_thickness, 'orange')\n",
    "plt.plot(xs, zs - 45, 'k')\n",
    "plt.show()"
   ]
  },
  {
   "cell_type": "code",
   "execution_count": null,
   "metadata": {},
   "outputs": [],
   "source": [
    "# preparing layer extrusion data for meshing_ats\n",
    "#\n",
    "# Meshes are extruded in the vertical by \"layer\", where a layer may \n",
    "# consist of multiple cells in the z direction.  These layers are \n",
    "# logical unit to make construction easier, and may or may not \n",
    "# correspond to material type (organic/mineral soil).\n",
    "# \n",
    "# The extrusion process is then given four lists, each of length\n",
    "# num_layers.\n",
    "#\n",
    "layer_types = []  # a list of strings that tell the extruding \n",
    "                  # code how to do the layers.  See meshing_ats \n",
    "                  # documentation for more, but here we will use\n",
    "                  # only \"constant\", which means that dz within\n",
    "                  # the layer is constant.\n",
    "\n",
    "layer_data = []   # this data depends upon the layer type, but\n",
    "                  # for constant is the thickness of the layer\n",
    "\n",
    "layer_ncells = [] # number of cells (in the vertical) in the layer.\n",
    "                  # The dz of each cell is the layer thickness / number of cells.\n",
    "\n",
    "layer_mat_ids = []# The material ID.  This may be either a constant int (for\n",
    "                  # unform layering) or an array of size [ncells_vertical x ncells_horizontal] in the layer \n",
    "                  # where each entry corresponds to the material ID of that cell.\n",
    "\n",
    "layer_depth = []  # used later to get the mat ids right, just for bookkeeping\n",
    "        \n",
    "# here we will only use 1 cell per layer, so layer thickness = dz.\n",
    "# We will also telescope the mesh, starting at 1cm grid cell and growing it larger in each layer.\n",
    "dz = .01\n",
    "i = 0\n",
    "current_depth = 0\n",
    "while dz < 2:\n",
    "    if i<=20:            #organic\n",
    "        dz *= 1.2\n",
    "    elif (20<i)&(i<=26): #mineral\n",
    "        dz *= 1.4\n",
    "    else:                #bedrock\n",
    "        dz *= 1.5\n",
    "    layer_types.append(\"constant\")\n",
    "    layer_data.append(dz)\n",
    "    layer_ncells.append(1)\n",
    "    current_depth += dz\n",
    "    layer_depth.append(current_depth)\n",
    "    i += 1\n",
    "    \n",
    "# now add in a bunch of cells to reach 45 m, of equal dz that is ~2m.\n",
    "num_of_layers=len(layer_data)\n",
    "layer_types.append('constant')\n",
    "layer_data.append(45 - sum(layer_data))  # note sum(layer_data) == the total mesh thickness at this point\n",
    "layer_ncells.append(int(np.floor(layer_data[-1]/dz)))\n",
    "layer_depth.append(45)\n"
   ]
  },
  {
   "cell_type": "code",
   "execution_count": null,
   "metadata": {},
   "outputs": [],
   "source": [
    "# allocate 2D matrix with cols=#cells, rows=21\n",
    "mat_ids=np.zeros((m2.num_cells(), 21), 'i')\n",
    "for i in range(m2.num_cells()):\n",
    "    for j in range(21): # after layer 20 everything is bedrock\n",
    "        if (layer_depth[j] < org_layer_thickness[i]):\n",
    "            mat_ids[i,j]=1001\n",
    "        else:\n",
    "            mat_ids[i,j]=1002\n",
    "            \n",
    "# filling out layer_mat_ids\n",
    "layer_mat_ids = []\n",
    "for j in range(21):\n",
    "    layer_mat_ids.append(mat_ids[:,j])\n",
    "for j in range(21,sum(layer_ncells)):\n",
    "    layer_mat_ids.append(101*np.ones((100,),'i'))\n",
    "\n",
    "print '# of rows, # of cells:', np.shape(layer_mat_ids)"
   ]
  },
  {
   "cell_type": "code",
   "execution_count": null,
   "metadata": {},
   "outputs": [],
   "source": [
    "# make the mesh, save it as an exodus file\n",
    "m3 = meshing_ats.Mesh3D.extruded_Mesh2D(m2, layer_types,layer_data, layer_ncells, layer_mat_ids)\n",
    "m3.write_exodus(\"test_organic_highres.exo\")"
   ]
  },
  {
   "cell_type": "code",
   "execution_count": null,
   "metadata": {},
   "outputs": [],
   "source": [
    "# Make a column that is the same as the deepest organic layer thickness for use in spinup.\n",
    "# 1 km long hillslope, 10% slope\n",
    "xc = np.array([0,1])\n",
    "zc = np.array([0,0])\n",
    "m2c = meshing_ats.Mesh2D.from_Transect(xc,zc)\n",
    "print '# of cells: ', m2c.num_cells()"
   ]
  },
  {
   "cell_type": "code",
   "execution_count": null,
   "metadata": {},
   "outputs": [],
   "source": [
    "column_mat_ids = [lmi[50] for lmi in layer_mat_ids]\n",
    "print column_mat_ids"
   ]
  },
  {
   "cell_type": "code",
   "execution_count": null,
   "metadata": {},
   "outputs": [],
   "source": [
    "m3c = meshing_ats.Mesh3D.extruded_Mesh2D(m2c, layer_types,layer_data, layer_ncells, column_mat_ids)\n",
    "m3c.write_exodus(\"test_organic_highres_column.exo\")"
   ]
  },
  {
   "cell_type": "code",
   "execution_count": null,
   "metadata": {},
   "outputs": [],
   "source": []
  }
 ],
 "metadata": {
  "anaconda-cloud": {},
  "kernelspec": {
   "display_name": "Python [conda env:root] *",
   "language": "python",
   "name": "conda-root-py"
  },
  "language_info": {
   "codemirror_mode": {
    "name": "ipython",
    "version": 3
   },
   "file_extension": ".py",
   "mimetype": "text/x-python",
   "name": "python",
   "nbconvert_exporter": "python",
   "pygments_lexer": "ipython3",
   "version": "3.7.1"
  }
 },
 "nbformat": 4,
 "nbformat_minor": 1
}
