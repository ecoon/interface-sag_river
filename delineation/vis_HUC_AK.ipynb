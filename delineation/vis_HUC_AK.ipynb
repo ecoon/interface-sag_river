{
 "cells": [
  {
   "cell_type": "code",
   "execution_count": 1,
   "metadata": {},
   "outputs": [],
   "source": [
    "%matplotlib osx"
   ]
  },
  {
   "cell_type": "markdown",
   "metadata": {},
   "source": [
    "# Drawing images on the Sag River\n",
    "\n",
    "* Sag: 19060402\n",
    "* Headwater 12: 190604020404\n"
   ]
  },
  {
   "cell_type": "code",
   "execution_count": 2,
   "metadata": {},
   "outputs": [
    {
     "name": "stderr",
     "output_type": "stream",
     "text": [
      "/Users/uec/codes/anaconda/3/envs/ats_meshing_20200525/lib/python3.7/site-packages/pyproj/crs/crs.py:280: FutureWarning: '+init=<authority>:<code>' syntax is deprecated. '<authority>:<code>' is the preferred initialization method. When making the change, be mindful of axis order changes: https://pyproj4.github.io/pyproj/stable/gotchas.html#axis-order-changes-in-proj-6\n",
      "  projstring = _prepare_from_string(projparams)\n",
      "/Users/uec/codes/anaconda/3/envs/ats_meshing_20200525/lib/python3.7/site-packages/pyproj/crs/crs.py:280: FutureWarning: '+init=<authority>:<code>' syntax is deprecated. '<authority>:<code>' is the preferred initialization method. When making the change, be mindful of axis order changes: https://pyproj4.github.io/pyproj/stable/gotchas.html#axis-order-changes-in-proj-6\n",
      "  projstring = _prepare_from_string(projparams)\n",
      "/Users/uec/codes/anaconda/3/envs/ats_meshing_20200525/lib/python3.7/site-packages/pyproj/crs/crs.py:280: FutureWarning: '+init=<authority>:<code>' syntax is deprecated. '<authority>:<code>' is the preferred initialization method. When making the change, be mindful of axis order changes: https://pyproj4.github.io/pyproj/stable/gotchas.html#axis-order-changes-in-proj-6\n",
      "  projstring = _prepare_from_string(projparams)\n",
      "/Users/uec/codes/anaconda/3/envs/ats_meshing_20200525/lib/python3.7/site-packages/pyproj/crs/crs.py:280: FutureWarning: '+init=<authority>:<code>' syntax is deprecated. '<authority>:<code>' is the preferred initialization method. When making the change, be mindful of axis order changes: https://pyproj4.github.io/pyproj/stable/gotchas.html#axis-order-changes-in-proj-6\n",
      "  projstring = _prepare_from_string(projparams)\n",
      "/Users/uec/codes/anaconda/3/envs/ats_meshing_20200525/lib/python3.7/site-packages/pyproj/crs/crs.py:280: FutureWarning: '+init=<authority>:<code>' syntax is deprecated. '<authority>:<code>' is the preferred initialization method. When making the change, be mindful of axis order changes: https://pyproj4.github.io/pyproj/stable/gotchas.html#axis-order-changes-in-proj-6\n",
      "  projstring = _prepare_from_string(projparams)\n"
     ]
    }
   ],
   "source": [
    "import os,sys\n",
    "import numpy as np\n",
    "from matplotlib import pyplot as plt\n",
    "import shapely\n",
    "import logging\n",
    "import pysheds.grid\n",
    "\n",
    "import workflow\n",
    "import workflow.source_list\n",
    "import workflow.ui\n",
    "import workflow.colors\n",
    "import workflow.condition\n",
    "import workflow.bin_utils\n",
    "import workflow.plot\n",
    "\n",
    "workflow.ui.setup_logging(1,None)"
   ]
  },
  {
   "cell_type": "markdown",
   "metadata": {},
   "source": [
    "## Sources and data collection"
   ]
  },
  {
   "cell_type": "markdown",
   "metadata": {},
   "source": [
    "A wide range of data sources are available; here we use the defaults except for using NHD \"Highest Res\" dataset (best available in AK)"
   ]
  },
  {
   "cell_type": "code",
   "execution_count": 3,
   "metadata": {},
   "outputs": [
    {
     "name": "stderr",
     "output_type": "stream",
     "text": [
      "2020-07-31 15:42:58,372 - root - INFO: Using sources:\n",
      "2020-07-31 15:42:58,374 - root - INFO: --------------\n",
      "2020-07-31 15:42:58,376 - root - INFO: HUC: National Watershed Boundary Dataset (WBD)\n",
      "2020-07-31 15:42:58,378 - root - INFO: hydrography: National Hydrography Dataset (NHD)\n",
      "2020-07-31 15:42:58,379 - root - INFO: DEM: National Elevation Dataset (NED)\n",
      "2020-07-31 15:42:58,380 - root - INFO: soil type: National Resources Conservation Service Soil Survey (NRCS Soils)\n",
      "2020-07-31 15:42:58,381 - root - INFO: land cover: National Land Cover Database (NLCD) Layer: NLCD_2016_Land_Cover_L48\n",
      "2020-07-31 15:42:58,383 - root - INFO: soil thickness: None\n",
      "2020-07-31 15:42:58,384 - root - INFO: meteorology: DayMet 1km\n"
     ]
    }
   ],
   "source": [
    "# set up a dictionary of source objects\n",
    "sources = workflow.source_list.get_default_sources()\n",
    "workflow.source_list.log_sources(sources)"
   ]
  },
  {
   "cell_type": "code",
   "execution_count": 4,
   "metadata": {},
   "outputs": [
    {
     "name": "stderr",
     "output_type": "stream",
     "text": [
      "2020-07-31 15:43:12,934 - root - INFO: \n",
      "2020-07-31 15:43:12,935 - root - INFO: Meshing HUC: 190604020404\n",
      "2020-07-31 15:43:12,937 - root - INFO: ==============================\n",
      "2020-07-31 15:43:12,942 - root - INFO: \n",
      "2020-07-31 15:43:12,945 - root - INFO: Preprocessing HUC\n",
      "2020-07-31 15:43:12,947 - root - INFO: ------------------------------\n",
      "2020-07-31 15:43:12,948 - root - INFO: Loading level 12 HUCs in 190604020404.\n",
      "2020-07-31 15:43:12,953 - root - INFO: Using HUC file \"/Users/uec/research/water/data/watershed-workflow/data-master/hydrography/WBD_19_GDB/WBD_19.gdb\"\n",
      "2020-07-31 15:43:16,006 - root - INFO:   found 1 HUCs.\n",
      "2020-07-31 15:43:16,007 - root - INFO:   -- 190604020404\n"
     ]
    }
   ],
   "source": [
    "# specify the input shapefile and a hint as to what HUC it is in.\n",
    "huc = '190604020404'\n",
    "logging.info(\"\")\n",
    "logging.info(\"Meshing HUC: {}\".format(huc))\n",
    "logging.info(\"=\"*30)\n",
    "\n",
    "# get the shape and crs of the shape\n",
    "crs, hucs = workflow.get_split_form_hucs(sources['HUC'], huc, 12, crs=workflow.crs.default_alaska_crs())"
   ]
  },
  {
   "cell_type": "code",
   "execution_count": 5,
   "metadata": {},
   "outputs": [
    {
     "data": {
      "text/plain": [
       "<matplotlib.patches.PathPatch at 0x12702a090>"
      ]
     },
     "execution_count": 5,
     "metadata": {},
     "output_type": "execute_result"
    }
   ],
   "source": [
    "# plot the shape, does it look right?\n",
    "fig, ax = workflow.plot.get_ax(crs)\n",
    "workflow.plot.shply([hucs.exterior(),], crs, ax=ax)\n"
   ]
  },
  {
   "cell_type": "code",
   "execution_count": null,
   "metadata": {},
   "outputs": [],
   "source": []
  },
  {
   "cell_type": "code",
   "execution_count": 17,
   "metadata": {},
   "outputs": [
    {
     "name": "stderr",
     "output_type": "stream",
     "text": [
      "2020-07-31 15:50:42,977 - root - INFO: \n",
      "2020-07-31 15:50:42,979 - root - INFO: Preprocessing Hydrography\n",
      "2020-07-31 15:50:42,981 - root - INFO: ------------------------------\n",
      "2020-07-31 15:50:42,982 - root - INFO: Loading streams in HUC 190604020404\n",
      "2020-07-31 15:50:42,983 - root - INFO:          and/or bounds (195504.56252458727, 2030373.258729276, 216355.9374925703, 2048392.8056229195)\n",
      "2020-07-31 15:50:42,986 - root - INFO: Using Hydrography file \"/Users/uec/research/water/data/watershed-workflow/data-master/hydrography/NHD_H_19060402_GDB/NHD_H_19060402.gdb\"\n",
      "2020-07-31 15:50:43,289 - root - INFO:   found 545 reaches\n",
      "2020-07-31 15:51:50,605 - root - INFO: \n",
      "2020-07-31 15:51:50,606 - root - INFO: Simplifying and pruning\n",
      "2020-07-31 15:51:50,607 - root - INFO: ------------------------------\n",
      "2020-07-31 15:51:50,608 - root - INFO: Filtering rivers outside of the HUC space\n",
      "2020-07-31 15:51:50,609 - root - INFO:   ...filtering\n",
      "2020-07-31 15:51:50,714 - root - INFO:   filtered from 471 to 141 reaches.\n",
      "2020-07-31 15:51:50,715 - root - INFO: Generate the river tree\n",
      "2020-07-31 15:51:50,749 - root - INFO: Removing rivers with fewer than 0 reaches.\n",
      "2020-07-31 15:51:50,750 - root - INFO:   ...keeping river with 1 reaches\n",
      "2020-07-31 15:51:50,751 - root - INFO:   ...keeping river with 140 reaches\n",
      "2020-07-31 15:51:50,753 - root - INFO: simplifying rivers\n",
      "2020-07-31 15:51:50,763 - root - INFO: simplifying HUCs\n",
      "2020-07-31 15:51:50,766 - root - INFO: snapping rivers and HUCs\n",
      "2020-07-31 15:51:50,771 - root - INFO:   snapping polygon segment boundaries to river endpoints\n",
      "2020-07-31 15:51:50,781 - root - INFO:   snapping river endpoints to the polygon\n",
      "2020-07-31 15:51:50,948 - root - INFO:   cutting at crossings\n",
      "2020-07-31 15:51:50,995 - root - INFO:   filtering rivers to HUC\n",
      "2020-07-31 15:51:50,996 - root - INFO:   ...filtering\n",
      "2020-07-31 15:51:51,047 - root - INFO: \n",
      "2020-07-31 15:51:51,048 - root - INFO: Simplification Diagnostics\n",
      "2020-07-31 15:51:51,049 - root - INFO: ------------------------------\n",
      "2020-07-31 15:51:51,058 - root - INFO:   river min seg length: 30.5488\n",
      "2020-07-31 15:51:51,059 - root - INFO:   river median seg length: 117.024\n",
      "2020-07-31 15:51:51,062 - root - INFO:   HUC min seg length: 21.067\n",
      "2020-07-31 15:51:51,063 - root - INFO:   HUC median seg length: 48.3822\n"
     ]
    }
   ],
   "source": [
    "# download/collect the river network within that shape's bounds\n",
    "_, reaches = workflow.get_reaches(sources['hydrography'], huc, \n",
    "                                  hucs.exterior().bounds, crs)\n",
    "\n",
    "# simplify and prune rivers not IN the shape, constructing a tree-like data structure\n",
    "# for the river network\n",
    "rivers = workflow.simplify_and_prune(hucs, reaches, simplify=20, cut_intersections=True)\n",
    "\n"
   ]
  },
  {
   "cell_type": "code",
   "execution_count": 18,
   "metadata": {},
   "outputs": [
    {
     "name": "stderr",
     "output_type": "stream",
     "text": [
      "2020-07-31 16:21:32,075 - root - INFO:   ...filtering\n"
     ]
    },
    {
     "name": "stdout",
     "output_type": "stream",
     "text": [
      "1\n"
     ]
    }
   ],
   "source": [
    "# braided network -- we must figure out how to simplify \n",
    "reaches = workflow.hydrography.filter_rivers_to_shape(hucs.exterior(), reaches, 1)\n",
    "rivers = workflow.hydrography.make_global_tree(reaches)\n",
    "rivers = [r for r in rivers if len(r) > 2]\n",
    "print(len(rivers))"
   ]
  },
  {
   "cell_type": "code",
   "execution_count": 24,
   "metadata": {},
   "outputs": [
    {
     "name": "stderr",
     "output_type": "stream",
     "text": [
      "2020-07-31 16:23:15,414 - root - INFO: \n",
      "2020-07-31 16:23:15,415 - root - INFO: Preprocessing Raster\n",
      "2020-07-31 16:23:15,416 - root - INFO: ------------------------------\n",
      "2020-07-31 16:23:15,418 - root - INFO: collecting raster\n",
      "2020-07-31 16:23:15,595 - root - INFO: Collecting DEMs to tile bounds: [-149.3337383807433, 68.15835009523076, -148.79217986384458, 68.33619896061079]\n",
      "2020-07-31 16:23:15,596 - root - INFO:   Need:\n",
      "2020-07-31 16:23:15,596 - root - INFO:     /Users/uec/research/water/data/watershed-workflow/data-master/dem/USGS_NED_1as_n69_w150.img\n",
      "2020-07-31 16:23:15,597 - root - INFO:     /Users/uec/research/water/data/watershed-workflow/data-master/dem/USGS_NED_1as_n69_w149.img\n",
      "2020-07-31 16:23:15,691 - root - INFO: Got raster of shape: (641, 1950)\n",
      "2020-07-31 16:23:15,824 - root - INFO: Masking to shape\n",
      "2020-07-31 16:23:15,841 - root - INFO: Raster bounds: (193937.88506934882, 2050090.5044407842, 217948.60719914178, 2028781.7188036991)\n"
     ]
    },
    {
     "name": "stdout",
     "output_type": "stream",
     "text": [
      "{'driver': 'HFA', 'dtype': 'float32', 'nodata': nan, 'width': 1644, 'height': 1459, 'count': 1, 'crs': CRS.from_epsg(3338), 'transform': Affine(14.605062122745112, 0.0, 193937.88506934882,\n",
      "       0.0, -14.605062122745112, 2050090.5044407842), 'blockxsize': 64, 'blockysize': 64, 'tiled': True}\n"
     ]
    }
   ],
   "source": [
    "# get a raster on that watershed -- getting raster in native crs\n",
    "dem_profile, dem = workflow.get_raster_on_shape(sources['DEM'], hucs.exterior(), crs, crs, \n",
    "                                mask=True, nodata=np.nan)\n",
    "print(dem_profile)"
   ]
  },
  {
   "cell_type": "code",
   "execution_count": 20,
   "metadata": {},
   "outputs": [
    {
     "name": "stdout",
     "output_type": "stream",
     "text": [
      "EPSG:3338\n"
     ]
    }
   ],
   "source": [
    "print(crs)"
   ]
  },
  {
   "cell_type": "code",
   "execution_count": 28,
   "metadata": {},
   "outputs": [
    {
     "name": "stderr",
     "output_type": "stream",
     "text": [
      "2020-07-31 16:24:55,381 - root - INFO: BOUNDS: (193937.88506934882, 2028781.7188036991, 217948.60719914178, 2050090.5044407842)\n",
      "2020-07-31 16:24:55,402 - root - INFO: BOUNDS: (193937.88506934882, 2028781.7188036991, 217948.60719914178, 2050090.5044407842)\n",
      "/Users/uec/codes/anaconda/3/envs/ats_meshing_20200525/lib/python3.7/site-packages/ipykernel_launcher.py:7: DeprecationWarning: The outline_patch property is deprecated. Use GeoAxes.spines['geo'] or the default Axes properties instead.\n",
      "  import sys\n",
      "/Users/uec/codes/anaconda/3/envs/ats_meshing_20200525/lib/python3.7/site-packages/ipykernel_launcher.py:8: DeprecationWarning: The background_patch property is deprecated. Use GeoAxes.patch instead.\n",
      "  \n"
     ]
    }
   ],
   "source": [
    "# plot the dem\n",
    "fig, ax = workflow.plot.get_ax(crs, figsize=(10,10))\n",
    "workflow.plot.dem(dem_profile, dem, ax=ax)\n",
    "workflow.plot.dem(dem_profile, dem, ax=ax, cmap='prism', alpha=0.1)\n",
    "workflow.plot.rivers(rivers, crs, color='white', ax=ax, linewidth=1)\n",
    "workflow.plot.hucs(hucs, crs, 'r', ax=ax, linewidth=0.6)\n",
    "ax.outline_patch.set_visible(False)\n",
    "ax.background_patch.set_visible(False)\n",
    "fig.savefig('sag_dem', dpi=300, transparent=True)\n",
    "plt.show()"
   ]
  },
  {
   "cell_type": "code",
   "execution_count": null,
   "metadata": {},
   "outputs": [],
   "source": [
    "# limit the above plot to the HUC\n",
    "dem_profile, dem = workflow.get_raster_on_shape(sources['DEM'], hucs.exterior(), crs, crs, mask=True, nodata=np.nan)\n",
    "\n",
    "fig, ax = workflow.plot.get_ax(crs, figsize=(8,8))\n",
    "workflow.plot.dem(dem_profile, dem, ax=ax)\n",
    "workflow.plot.shply(reaches, crs, color='white', ax=ax)\n",
    "workflow.plot.hucs(hucs, crs, 'r', ax=ax, linewidth=0.6)\n",
    "plt.show()"
   ]
  },
  {
   "cell_type": "code",
   "execution_count": null,
   "metadata": {},
   "outputs": [],
   "source": [
    "# yikes, that's a braided channel....\n",
    "\n",
    "# how can we simplify this in ways that -- \n",
    "#   1, allows the specification of a delta channel length\n",
    "#   2, collapses braided channels\n",
    "#   3, removes segments by contributing area\n",
    "\n",
    "rivers = workflow.hydrography.make_global_tree(reaches)\n",
    "rivers = workflow.hydrography.filter_rivers_to_shape(hucs.exterior(), rivers, 1)\n",
    "rivers = [r for r in rivers if len(r) > 2]\n",
    "assert(len(rivers) == 1)\n",
    "river = rivers[0]"
   ]
  },
  {
   "cell_type": "code",
   "execution_count": null,
   "metadata": {},
   "outputs": [],
   "source": [
    "print([len(r) for r in rivers])"
   ]
  },
  {
   "cell_type": "code",
   "execution_count": null,
   "metadata": {},
   "outputs": [],
   "source": [
    "# write shape, DEM to disk for Jon\n",
    "import fiona, rasterio, collections\n",
    "\n",
    "# write these subbasins to file for future use\n",
    "schema = dict()\n",
    "schema['geometry'] = 'Polygon'\n",
    "schema['properties'] = collections.OrderedDict()\n",
    "schema['properties']['name'] = 'str'\n",
    "\n",
    "# east river\n",
    "properties = collections.OrderedDict()\n",
    "name = 'huc_{}'.format(huc)\n",
    "properties['name'] = name\n",
    "with fiona.open('./{}.shp'.format(name), 'w', \n",
    "                driver='ESRI Shapefile', crs=workflow.crs.to_fiona(crs), crs_wkt=workflow.crs.to_wkt(crs),\n",
    "                schema=schema) as c:\n",
    "    c.write({'geometry': shapely.geometry.mapping(hucs.exterior()),\n",
    "             'properties': properties,\n",
    "            })\n",
    "\n",
    "rio_profile = dict(dem_profile).copy()\n",
    "rio_profile.pop('blockxsize')\n",
    "rio_profile.pop('blockysize')\n",
    "rio_profile.pop('tiled')\n",
    "rio_profile['nodata'] = np.float32(0)\n",
    "rio_profile['driver'] = 'GTiff'\n",
    "rio_profile['compress'] = 'lzw'\n",
    "\n",
    "rio_dem = np.where(np.isnan(dem), rio_profile['nodata'], dem).astype(rio_profile['dtype'])\n",
    "\n",
    "for k,v in rio_profile.items():\n",
    "    print(k,v)\n",
    "\n",
    "with rasterio.open('./{}.tif'.format(name), 'w', **rio_profile) as dst:\n",
    "    dst.write(rio_dem,1)\n",
    "\n",
    "        \n"
   ]
  },
  {
   "cell_type": "markdown",
   "metadata": {},
   "source": []
  },
  {
   "cell_type": "code",
   "execution_count": null,
   "metadata": {},
   "outputs": [],
   "source": [
    "# can we read it?\n",
    "dset = rasterio.open('./huc_190604020404.tif')\n",
    "dat = dset.read(1)\n",
    "plt.imshow(dat)\n",
    "\n"
   ]
  },
  {
   "cell_type": "code",
   "execution_count": null,
   "metadata": {},
   "outputs": [],
   "source": [
    "# plot the resulting surface mesh\n",
    "fig = plt.figure(figsize=figsize_3d)\n",
    "ax = workflow.plot.get_ax('3d', fig, window=[0.0,0.2,1,0.8])\n",
    "cax = fig.add_axes([0.23,0.18,0.58,0.03])\n",
    "\n",
    "mp = ax.plot_trisurf(mesh_points3[:,0], mesh_points3[:,1], mesh_points3[:,2], \n",
    "                     triangles=mesh_tris, cmap='viridis', \n",
    "                     edgecolor=(0,0,0,.2), linewidth=0.5)\n",
    "cb = fig.colorbar(mp, orientation=\"horizontal\", cax=cax)\n",
    "\n",
    "rivers_2 = [np.array(r.xy) for riv in rivers for r in riv]\n",
    "rivers_e = [workflow.values_from_raster(r.transpose(), crs, dem, dem_profile) \n",
    "               for r in rivers_2]\n",
    "rivers_l3 = [np.array([i[0], i[1], j]).transpose() \n",
    "               for i,j in zip(rivers_2, rivers_e)]\n",
    "for r in rivers_l3:\n",
    "    ax.plot(r[:,0]+1, r[:,1], r[:,2]+10, color='red', linewidth=3)\n",
    "\n",
    "t = cax.set_title('elevation [m]')\n",
    "ax.view_init(55,0)\n",
    "ax.set_xticklabels(list())\n",
    "ax.set_yticklabels(list())\n",
    "\n",
    "fig.savefig('coweeta_dem_3d')"
   ]
  },
  {
   "cell_type": "code",
   "execution_count": null,
   "metadata": {},
   "outputs": [],
   "source": [
    "# plot the resulting surface mesh\n",
    "fig = plt.figure(figsize=figsize)\n",
    "ax = workflow.plot.get_ax(crs, fig)\n",
    "\n",
    "mp = workflow.plot.triangulation(mesh_points3, mesh_tris, crs, ax=ax, \n",
    "                                 color='elevation', edgecolor='gray', linewidth=0.2)\n",
    "cbar = fig.colorbar(mp, orientation=\"horizontal\", pad=0.05)\n",
    "workflow.plot.hucs(coweeta, crs, ax=ax, color='k', linewidth=1)\n",
    "workflow.plot.rivers(rivers, crs, ax=ax, color='red', linewidth=1)\n",
    "ax.set_aspect('equal', 'datalim')\n",
    "ax.set_title('elevation [m]')\n",
    "cbar.ax.set_title('elevation [m]')\n",
    "fig.savefig('coweeta_dem')"
   ]
  },
  {
   "cell_type": "code",
   "execution_count": null,
   "metadata": {},
   "outputs": [],
   "source": [
    "# construct the 2D mesh\n",
    "m2 = workflow.extrude.Mesh2D(mesh_points3.copy(), list(mesh_tris))"
   ]
  },
  {
   "cell_type": "code",
   "execution_count": null,
   "metadata": {},
   "outputs": [],
   "source": [
    "# hydrologically condition the mesh\n",
    "workflow.condition.condition(m2)\n",
    "\n",
    "# plot the change between the two meshes\n",
    "diff = np.copy(mesh_points3)\n",
    "diff[:,2] = m2.points[:,2] - mesh_points3[:,2] \n",
    "print(\"max diff = \", np.abs(diff[:,2]).max())\n",
    "fig, ax = workflow.plot.get_ax(crs, figsize=figsize)\n",
    "workflow.plot.triangulation(diff, m2.conn, crs, color='elevation', edgecolors='gray', \n",
    "                            linewidth=0.2, ax=ax)\n",
    "ax.set_title('conditioned dz')\n",
    "plt.show()"
   ]
  },
  {
   "cell_type": "markdown",
   "metadata": {},
   "source": [
    "## Surface properties\n",
    "\n",
    "Meshes interact with data to provide forcing, parameters, and more in the actual simulation.  Specifically, we need vegetation type on the surface to provide information about transpiration and subsurface structure to provide information about water retention curves, etc.\n",
    "\n",
    "We'll start by downloading and collecting land cover from the NLCD dataset, and generate sets for each land cover type that cover the surface.  Likely these will be some combination of grass, deciduous forest, coniferous forest, and mixed."
   ]
  },
  {
   "cell_type": "code",
   "execution_count": null,
   "metadata": {},
   "outputs": [],
   "source": [
    "# download the NLCD raster\n",
    "lc_profile, lc_raster = workflow.get_raster_on_shape(sources['land cover'], \n",
    "                                                     coweeta.exterior(), crs)\n",
    "\n",
    "# resample the raster to the triangles\n",
    "lc = workflow.values_from_raster(m2.centroids(), crs, lc_raster, lc_profile)\n",
    "\n",
    "# what land cover types did we get?\n",
    "logging.info('Found land cover dtypes: {}'.format(lc.dtype))\n",
    "logging.info('Found land cover types: {}'.format(set(lc)))\n"
   ]
  },
  {
   "cell_type": "code",
   "execution_count": null,
   "metadata": {},
   "outputs": [],
   "source": [
    "# plot the NLCD data\n",
    "\n",
    "# -- get the NLCD colormap which uses official NLCD colors and labels\n",
    "nlcd_indices, nlcd_cmap, nlcd_norm, nlcd_ticks, nlcd_labels = \\\n",
    "                workflow.colors.generate_nlcd_colormap(lc)\n",
    "\n",
    "nlcd_labels_fw = []\n",
    "for label in nlcd_labels:\n",
    "    label_fw = label\n",
    "    if len(label) > 15:\n",
    "        if ' ' in label:\n",
    "            lsplit = label.split()\n",
    "            if len(lsplit) == 2:\n",
    "                label_fw = '\\n'.join(lsplit)\n",
    "            elif len(lsplit) == 4:\n",
    "                label_fw = '\\n'.join([' '.join(lsplit[0:2]),\n",
    "                                      ' '.join(lsplit[2:])])\n",
    "            elif len(lsplit) == 3:\n",
    "                if len(lsplit[0]) > len(lsplit[-1]):\n",
    "                    label_fw = '\\n'.join([lsplit[0],\n",
    "                                          ' '.join(lsplit[1:])])\n",
    "                else:\n",
    "                    label_fw = '\\n'.join([' '.join(lsplit[:-1]),\n",
    "                                          lsplit[-1]])\n",
    "    nlcd_labels_fw.append(label_fw)\n",
    "\n",
    "fig = plt.figure(figsize=figsize)\n",
    "ax = workflow.plot.get_ax(crs, fig)\n",
    "\n",
    "mp = workflow.plot.triangulation(mesh_points3, mesh_tris, crs, ax=ax, color=lc,\n",
    "                                 cmap=nlcd_cmap, norm=nlcd_norm, edgecolor='none', \n",
    "                                 linewidth=0.5)\n",
    "cb = fig.colorbar(mp)\n",
    "cb.set_ticks(nlcd_ticks)\n",
    "cb.set_ticklabels(nlcd_labels_fw)\n",
    "ax.set_title(\"land cover index\")\n",
    "fig.savefig('coweeta_nlcd')"
   ]
  },
  {
   "cell_type": "markdown",
   "metadata": {},
   "source": [
    "## Subsurface properties\n",
    "\n",
    "Get soil structure from SSURGO"
   ]
  },
  {
   "cell_type": "code",
   "execution_count": null,
   "metadata": {},
   "outputs": [],
   "source": [
    "# download the NRCS soils data as shapes and project it onto the mesh\n",
    "import workflow.sources.manager_nrcs\n",
    "import matplotlib.cm\n",
    "\n",
    "# -- download the shapes\n",
    "target_bounds = coweeta.exterior().bounds\n",
    "_, soil_survey = workflow.get_shapes(sources['soil type'], target_bounds, crs)\n",
    "\n",
    "# -- log the bounds targetted and found\n",
    "logging.info('target bounds: {}'.format(target_bounds))\n",
    "logging.info('shape union bounds: {}'.format(\n",
    "    shapely.ops.cascaded_union(soil_survey).bounds))\n",
    "\n",
    "# -- determine the NRCS mukey for each soil unit; this uniquely identifies soil \n",
    "#    properties\n",
    "soil_ids = np.array([shp.properties['id'] for shp in soil_survey], np.int32)\n",
    "\n",
    "# -- color a raster by the polygons (this makes identifying a triangle's value much \n",
    "#    more efficient)\n",
    "soil_color_raster, soil_color_profile, img_bounds = \\\n",
    "            workflow.color_raster_from_shapes(target_bounds, 10, soil_survey,\n",
    "                                              soil_ids, crs)\n",
    "\n",
    "# -- resample the raster to the triangles\n",
    "soil_color = workflow.values_from_raster(m2.centroids(), crs, \n",
    "                                         soil_color_raster, soil_color_profile)"
   ]
  },
  {
   "cell_type": "code",
   "execution_count": null,
   "metadata": {},
   "outputs": [],
   "source": [
    "# plot the soil data\n",
    "fig = plt.figure(figsize=figsize)\n",
    "ax = workflow.plot.get_ax(crs, fig)\n",
    "\n",
    "mp = workflow.plot.triangulation(mesh_points3, mesh_tris, crs, ax=ax, \n",
    "                                 linewidth=0.5, color=soil_color, cmap='copper')\n",
    "ax.set_title('soil type index')\n",
    "\n",
    "fig.savefig('coweeta_soils')"
   ]
  },
  {
   "cell_type": "markdown",
   "metadata": {},
   "source": [
    "## Mesh extrusion\n",
    "\n",
    "Given the surface mesh and material IDs on both the surface and subsurface, we can extrude the surface mesh in the vertical to make a 3D mesh."
   ]
  },
  {
   "cell_type": "code",
   "execution_count": null,
   "metadata": {},
   "outputs": [],
   "source": [
    "# layer extrusion\n",
    "# -- data structures needed for extrusion\n",
    "layer_types = []\n",
    "layer_data = []\n",
    "layer_ncells = []\n",
    "layer_mat_ids = []\n",
    "z = 0.0\n",
    "\n",
    "# -- soil layer --\n",
    "#  top 6 m\n",
    "#  5 cm initial top cell\n",
    "#  10 cells\n",
    "#  expanding dz, growing with depth\n",
    "ncells = 9\n",
    "dz = 0.05\n",
    "layer_dz = 4\n",
    "\n",
    "def telescope_factor(ncells, dz, layer_dz):\n",
    "    \"\"\"Calculates a telescoping factor\"\"\"\n",
    "    if ncells * dz > layer_dz:\n",
    "        raise ValueError((\"Cannot telescope {} cells of thickness at least {} \"+\n",
    "                          \"and reach a layer of thickness {}\"\n",
    "                         ).format(ncells, dz, layer_dz))\n",
    "\n",
    "    import scipy.optimize\n",
    "    def seq(r):\n",
    "        calc_layer_dz = dz * (1 - r**ncells)/(1-r)\n",
    "        #print('tried: {} got: {}'.format(r, calc_layer_dz))\n",
    "        return layer_dz - calc_layer_dz\n",
    "    res = scipy.optimize.root_scalar(seq, x0=1.0001, x1=2)\n",
    "    return res.root\n",
    "\n",
    "tele = telescope_factor(ncells, dz, layer_dz)\n",
    "logging.info(\"Got telescoping factor: {}\".format(tele))\n",
    "for i in range(ncells):\n",
    "    layer_types.append('constant')\n",
    "    layer_data.append(dz)\n",
    "    layer_ncells.append(1)\n",
    "    layer_mat_ids.append(soil_color)\n",
    "    z += dz\n",
    "    dz *= tele\n",
    "    \n",
    "# one more 2m layer makes 6m\n",
    "dz = 2.0\n",
    "layer_types.append('constant')\n",
    "layer_data.append(dz)\n",
    "layer_ncells.append(1)\n",
    "layer_mat_ids.append(soil_color)\n",
    "z += dz\n",
    "\n",
    "# -- geologic layer --\n",
    "# keep going for 2m cells until we hit the bottom of\n",
    "# the domain\n",
    "layer_types.append(\"constant\")\n",
    "layer_data.append(40 - z) # depth of bottom of domain is 40 m\n",
    "layer_ncells.append(int(round(layer_data[-1] / dz)))\n",
    "layer_mat_ids.append(999*np.ones_like(soil_color))\n",
    "\n",
    "# print the summary\n",
    "workflow.extrude.Mesh3D.summarize_extrusion(layer_types, layer_data, \n",
    "                                            layer_ncells, layer_mat_ids)"
   ]
  },
  {
   "cell_type": "code",
   "execution_count": null,
   "metadata": {},
   "outputs": [],
   "source": [
    "# extrude\n",
    "m3 = workflow.extrude.Mesh3D.extruded_Mesh2D(m2, layer_types, layer_data, \n",
    "                                             layer_ncells, layer_mat_ids)"
   ]
  },
  {
   "cell_type": "code",
   "execution_count": null,
   "metadata": {},
   "outputs": [],
   "source": [
    "# add back on land cover side sets\n",
    "surf_ss = m3.side_sets[1]\n",
    "\n",
    "for index, name in zip(nlcd_indices, nlcd_labels):\n",
    "    where = np.where(lc == index)[0]\n",
    "    ss = workflow.extrude.SideSet(name, int(index), \n",
    "                                  [surf_ss.elem_list[w] for w in where],\n",
    "                                  [surf_ss.side_list[w] for w in where])        \n",
    "    m3.side_sets.append(ss)"
   ]
  },
  {
   "cell_type": "code",
   "execution_count": null,
   "metadata": {},
   "outputs": [],
   "source": [
    "# save to disk\n",
    "try:\n",
    "    os.remove('coweeta_basin.exo')\n",
    "except FileNotFoundError:\n",
    "    pass\n",
    "m3.write_exodus('coweeta_basin.exo')"
   ]
  }
 ],
 "metadata": {
  "kernelspec": {
   "display_name": "Python [conda env:ats_meshing_20200525]",
   "language": "python",
   "name": "conda-env-ats_meshing_20200525-py"
  },
  "language_info": {
   "codemirror_mode": {
    "name": "ipython",
    "version": 3
   },
   "file_extension": ".py",
   "mimetype": "text/x-python",
   "name": "python",
   "nbconvert_exporter": "python",
   "pygments_lexer": "ipython3",
   "version": "3.7.6"
  }
 },
 "nbformat": 4,
 "nbformat_minor": 2
}
